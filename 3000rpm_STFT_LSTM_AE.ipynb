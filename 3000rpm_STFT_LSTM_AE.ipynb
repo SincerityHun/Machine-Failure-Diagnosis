{
 "cells": [
  {
   "cell_type": "markdown",
   "metadata": {},
   "source": [
    "### 계획\n",
    "1. Import\n",
    "2. Data Processing (Preprocessing)\n",
    "    - Data Load\n",
    "    - Original Signal + Visualization\n",
    "    - CWT\n",
    "3. Model Define (Pytorch) + Hyperparameter Tuning\n",
    "    - LSTM Autoencoder\n",
    "        * batch_size\n",
    "        * hidden_size\n",
    "        * layer_numbers\n",
    "        * num_epochs\n",
    "        * learning_rate\n",
    "4. Training\n",
    "5. Test"
   ]
  },
  {
   "cell_type": "markdown",
   "metadata": {},
   "source": [
    "### Import"
   ]
  },
  {
   "cell_type": "code",
   "execution_count": 9,
   "metadata": {},
   "outputs": [],
   "source": [
    "import numpy as np\n",
    "import pandas as pd\n",
    "import random\n",
    "import seaborn as sns\n",
    "import torch\n",
    "import torch.nn as nn\n",
    "import torch.optim as optim\n",
    "import matplotlib.pyplot as plt\n",
    "from sklearn.preprocessing import MinMaxScaler\n",
    "from torch.utils.data import DataLoader, TensorDataset, random_split\n",
    "from sklearn.metrics import classification_report, confusion_matrix\n",
    "from scipy.fft import fft, ifft\n",
    "import pywt\n",
    "import os\n",
    "from sklearn.preprocessing import StandardScaler\n",
    "from sklearn.model_selection import train_test_split\n",
    "from tqdm import tqdm\n",
    "import pywt\n",
    "import torch.nn.functional as F\n",
    "from keras.utils import to_categorical\n",
    "import scipy.signal"
   ]
  },
  {
   "cell_type": "markdown",
   "metadata": {},
   "source": [
    "### Data Preprocessing"
   ]
  },
  {
   "cell_type": "code",
   "execution_count": 3,
   "metadata": {},
   "outputs": [
    {
     "name": "stdout",
     "output_type": "stream",
     "text": [
      "Data Processing\n"
     ]
    }
   ],
   "source": [
    "# Data Processing\n",
    "print(\"Data Processing\")\n",
    "RPM = 3000\n",
    "base_path = \"5000hz_raw_data/\" + str(RPM) + \"rpm/\"\n",
    "folders = [\n",
    "    str(RPM) + \"rpm \" + \"normal data\",\n",
    "    str(RPM) + \"rpm \" + \"carriage damage\",\n",
    "    str(RPM) + \"rpm \" + \"high-speed damage\",\n",
    "    str(RPM) + \"rpm \" + \"lack of lubrication\",\n",
    "    str(RPM) + \"rpm \" + \"oxidation and corrosion\",\n",
    "]\n",
    "columns = [\"motor1_x\", \"motor1_y\", \"motor1_z\", \"sound\", \"time\"]"
   ]
  },
  {
   "cell_type": "code",
   "execution_count": 4,
   "metadata": {},
   "outputs": [],
   "source": [
    "# 데이터 정규화\n",
    "def normalize_data(df):\n",
    "    scaler = StandardScaler()\n",
    "    return scaler.fit_transform(df)"
   ]
  },
  {
   "cell_type": "code",
   "execution_count": 5,
   "metadata": {},
   "outputs": [],
   "source": [
    "# 데이터를 읽고 결합하는 함수\n",
    "def read_and_concatenate(folder):\n",
    "    all_files = []\n",
    "    for file_name in os.listdir(folder):\n",
    "        if file_name.endswith(\".csv\"):\n",
    "            file_path = os.path.join(folder, file_name)\n",
    "            df = pd.read_csv(file_path, usecols=columns)\n",
    "            df[[\"motor1_x\", \"motor1_y\", \"motor1_z\"]] = normalize_data(\n",
    "                df[[\"motor1_x\", \"motor1_y\", \"motor1_z\"]]\n",
    "            )\n",
    "            df[[\"sound\"]] = normalize_data(df[[\"sound\"]])\n",
    "            all_files.append(df)\n",
    "            # break  # TEST 한개의 파일만 사용\n",
    "    combined_df = pd.concat(all_files)\n",
    "    combined_df.sort_values(\"time\", inplace=True)  # 시간 열 기준 정렬\n",
    "    return combined_df"
   ]
  },
  {
   "cell_type": "code",
   "execution_count": 6,
   "metadata": {},
   "outputs": [],
   "source": [
    "concatenated_df = dict()\n",
    "folder_index = [\n",
    "    \"normal data\",\n",
    "    \"carriage damage\",\n",
    "    \"high-speed damage\",\n",
    "    \"lack of lubrication\",\n",
    "    \"oxidation and corrosion\",\n",
    "]\n",
    "# 각 폴더에서 데이터를 처리\n",
    "for index, folder_name in enumerate(folders):\n",
    "    folder_path = os.path.join(base_path, folder_name)\n",
    "    concatenated_df[folder_index[index]] = read_and_concatenate(folder_path)\n",
    "\n",
    "    # time 열 제거\n",
    "    concatenated_df[folder_index[index]].drop(columns=\"time\", inplace=True)"
   ]
  },
  {
   "cell_type": "code",
   "execution_count": 7,
   "metadata": {},
   "outputs": [],
   "source": [
    "# STFT 수행\n",
    "fs = 5000\n",
    "def compute_stft(data):\n",
    "    return np.array(\n",
    "        [scipy.signal.stft(d, fs=fs, nperseg=min(d.shape[-1], 256))[2] for d in data]\n",
    "    )"
   ]
  },
  {
   "cell_type": "code",
   "execution_count": 58,
   "metadata": {},
   "outputs": [],
   "source": [
    "X = np.vstack(\n",
    "    (\n",
    "        concatenated_df[folder_index[0]],\n",
    "        concatenated_df[folder_index[1]],\n",
    "        concatenated_df[folder_index[2]],\n",
    "        concatenated_df[folder_index[3]],\n",
    "        concatenated_df[folder_index[4]],\n",
    "    )\n",
    ")"
   ]
  },
  {
   "cell_type": "code",
   "execution_count": 59,
   "metadata": {},
   "outputs": [],
   "source": [
    "Y = np.concatenate(\n",
    "    (\n",
    "        np.zeros(concatenated_df[folder_index[0]].shape[0]),\n",
    "        np.ones(concatenated_df[folder_index[1]].shape[0]),\n",
    "        np.full(concatenated_df[folder_index[2]].shape[0],2),\n",
    "        np.full(concatenated_df[folder_index[3]].shape[0],3),\n",
    "        np.full(concatenated_df[folder_index[4]].shape[0],4),\n",
    "    )\n",
    ")\n",
    "Y = to_categorical(Y)"
   ]
  },
  {
   "cell_type": "code",
   "execution_count": 60,
   "metadata": {},
   "outputs": [],
   "source": [
    "# 데이터 분할\n",
    "X_train, X_test, y_train, y_test = train_test_split(\n",
    "    X, Y, test_size=0.2, random_state=42\n",
    ")"
   ]
  },
  {
   "cell_type": "code",
   "execution_count": 61,
   "metadata": {},
   "outputs": [],
   "source": [
    "# 데이터 형태 확인\n",
    "timesteps = 1\n",
    "input_dim = X_train.shape[1]"
   ]
  },
  {
   "cell_type": "code",
   "execution_count": 62,
   "metadata": {},
   "outputs": [],
   "source": [
    "# 데이터 형태 변환\n",
    "X_train = X_train.reshape(X_train.shape[0], timesteps, input_dim)\n",
    "X_test = X_test.reshape(X_test.shape[0], timesteps, input_dim)"
   ]
  },
  {
   "cell_type": "code",
   "execution_count": 63,
   "metadata": {},
   "outputs": [],
   "source": [
    "# PyTorch 텐서로 변환\n",
    "X_train_tensor = torch.tensor(X_train, dtype=torch.float32)\n",
    "X_test_tensor = torch.tensor(X_test, dtype=torch.float32)\n",
    "y_train_tensor = torch.tensor(y_train, dtype=torch.float32)\n",
    "y_test_tensor = torch.tensor(y_test, dtype=torch.float32)"
   ]
  },
  {
   "cell_type": "code",
   "execution_count": 64,
   "metadata": {},
   "outputs": [],
   "source": [
    "# DataLoader 생성\n",
    "batch_size = 256\n",
    "train_dataset = TensorDataset(X_train_tensor, y_train_tensor)\n",
    "test_dataset = TensorDataset(X_test_tensor, y_test_tensor)\n",
    "\n",
    "train_loader = DataLoader(train_dataset, batch_size=batch_size, shuffle=True)\n",
    "test_loader = DataLoader(test_dataset, batch_size=batch_size, shuffle=False)"
   ]
  },
  {
   "cell_type": "markdown",
   "metadata": {},
   "source": [
    "### Model Define"
   ]
  },
  {
   "cell_type": "code",
   "execution_count": 68,
   "metadata": {},
   "outputs": [],
   "source": [
    "class LSTMAutoencoder(nn.Module):\n",
    "    def __init__(self, input_dim, hidden_dim1, hidden_dim2, hidden_dim3, output_dim):\n",
    "        super(LSTMAutoencoder, self).__init__()\n",
    "        self.lstm1 = nn.LSTM(input_dim, hidden_dim1, batch_first=True)\n",
    "        self.lstm2 = nn.LSTM(hidden_dim1, hidden_dim2, batch_first=True)\n",
    "        self.lstm3 = nn.LSTM(hidden_dim2, hidden_dim3, batch_first=True)\n",
    "        self.dense1 = nn.Linear(hidden_dim3, hidden_dim2)\n",
    "        self.dropout = nn.Dropout(0.2)\n",
    "        self.dense2 = nn.Linear(hidden_dim2, output_dim)\n",
    "        self.softmax = nn.Softmax(dim=1)\n",
    "\n",
    "    def forward(self, x):\n",
    "        x, _ = self.lstm1(x)\n",
    "        x, _ = self.lstm2(x)\n",
    "        x, _ = self.lstm3(x)\n",
    "        x = self.dense1(x[:, -1, :])  # 마지막 타임스텝의 출력을 사용합니다.\n",
    "        x = self.dropout(x)\n",
    "        x = self.dense2(x)\n",
    "        x = self.softmax(x)\n",
    "        return x"
   ]
  },
  {
   "cell_type": "markdown",
   "metadata": {},
   "source": [
    "### Training"
   ]
  },
  {
   "cell_type": "code",
   "execution_count": 66,
   "metadata": {},
   "outputs": [],
   "source": [
    "input_dim = X_train.shape[2]\n",
    "hidden_dim1 = 128\n",
    "hidden_dim2 = 64\n",
    "hidden_dim3 = 32\n",
    "output_dim = y_train.shape[1]"
   ]
  },
  {
   "cell_type": "code",
   "execution_count": 69,
   "metadata": {},
   "outputs": [],
   "source": [
    "# 모델 초기화\n",
    "model = LSTMAutoencoder(input_dim, hidden_dim1, hidden_dim2, hidden_dim3, output_dim)"
   ]
  },
  {
   "cell_type": "code",
   "execution_count": 70,
   "metadata": {},
   "outputs": [],
   "source": [
    "# Loss function 및 optimizer 정의\n",
    "criterion = nn.CrossEntropyLoss()\n",
    "optimizer = optim.Adam(model.parameters(), lr=0.001)"
   ]
  },
  {
   "cell_type": "code",
   "execution_count": null,
   "metadata": {},
   "outputs": [],
   "source": [
    "# 체크포인트 파일 경로 설정\n",
    "checkpoint_path = \"./checkpoint/cwt_lstm_autoencoder/model_checkpoint\""
   ]
  },
  {
   "cell_type": "code",
   "execution_count": 71,
   "metadata": {},
   "outputs": [
    {
     "name": "stderr",
     "output_type": "stream",
     "text": [
      "Epoch 1/100: 100%|██████████| 4688/4688 [00:44<00:00, 106.21it/s]\n"
     ]
    },
    {
     "name": "stdout",
     "output_type": "stream",
     "text": [
      "Epoch [1/100], Train Loss: 1.5636, Valid Loss: 1.5589, Train Accuracy: 0.2943, Valid Accuracy: 0.3046\n"
     ]
    },
    {
     "name": "stderr",
     "output_type": "stream",
     "text": [
      "Epoch 2/100: 100%|██████████| 4688/4688 [00:43<00:00, 107.25it/s]\n"
     ]
    },
    {
     "name": "stdout",
     "output_type": "stream",
     "text": [
      "Epoch [2/100], Train Loss: 1.5586, Valid Loss: 1.5579, Train Accuracy: 0.3038, Valid Accuracy: 0.3048\n"
     ]
    },
    {
     "name": "stderr",
     "output_type": "stream",
     "text": [
      "Epoch 3/100: 100%|██████████| 4688/4688 [00:46<00:00, 100.06it/s]\n"
     ]
    },
    {
     "name": "stdout",
     "output_type": "stream",
     "text": [
      "Epoch [3/100], Train Loss: 1.5578, Valid Loss: 1.5575, Train Accuracy: 0.3046, Valid Accuracy: 0.3056\n"
     ]
    },
    {
     "name": "stderr",
     "output_type": "stream",
     "text": [
      "Epoch 4/100: 100%|██████████| 4688/4688 [00:43<00:00, 107.10it/s]\n"
     ]
    },
    {
     "name": "stdout",
     "output_type": "stream",
     "text": [
      "Epoch [4/100], Train Loss: 1.5562, Valid Loss: 1.5535, Train Accuracy: 0.3065, Valid Accuracy: 0.3098\n"
     ]
    },
    {
     "name": "stderr",
     "output_type": "stream",
     "text": [
      "Epoch 5/100: 100%|██████████| 4688/4688 [00:48<00:00, 96.58it/s] \n"
     ]
    },
    {
     "name": "stdout",
     "output_type": "stream",
     "text": [
      "Epoch [5/100], Train Loss: 1.5513, Valid Loss: 1.5505, Train Accuracy: 0.3123, Valid Accuracy: 0.3137\n"
     ]
    },
    {
     "name": "stderr",
     "output_type": "stream",
     "text": [
      "Epoch 6/100: 100%|██████████| 4688/4688 [00:45<00:00, 103.87it/s]\n"
     ]
    },
    {
     "name": "stdout",
     "output_type": "stream",
     "text": [
      "Epoch [6/100], Train Loss: 1.3779, Valid Loss: 1.1027, Train Accuracy: 0.5095, Valid Accuracy: 0.8182\n"
     ]
    },
    {
     "name": "stderr",
     "output_type": "stream",
     "text": [
      "Epoch 7/100: 100%|██████████| 4688/4688 [00:43<00:00, 106.56it/s]\n"
     ]
    },
    {
     "name": "stdout",
     "output_type": "stream",
     "text": [
      "Epoch [7/100], Train Loss: 1.0602, Valid Loss: 1.0314, Train Accuracy: 0.8486, Valid Accuracy: 0.8742\n"
     ]
    },
    {
     "name": "stderr",
     "output_type": "stream",
     "text": [
      "Epoch 8/100: 100%|██████████| 4688/4688 [00:43<00:00, 107.92it/s]\n"
     ]
    },
    {
     "name": "stdout",
     "output_type": "stream",
     "text": [
      "Epoch [8/100], Train Loss: 1.0407, Valid Loss: 1.0553, Train Accuracy: 0.8637, Valid Accuracy: 0.8465\n"
     ]
    },
    {
     "name": "stderr",
     "output_type": "stream",
     "text": [
      "Epoch 9/100: 100%|██████████| 4688/4688 [00:43<00:00, 107.37it/s]\n"
     ]
    },
    {
     "name": "stdout",
     "output_type": "stream",
     "text": [
      "Epoch [9/100], Train Loss: 1.0416, Valid Loss: 1.0314, Train Accuracy: 0.8615, Valid Accuracy: 0.8718\n"
     ]
    },
    {
     "name": "stderr",
     "output_type": "stream",
     "text": [
      "Epoch 10/100: 100%|██████████| 4688/4688 [00:43<00:00, 107.92it/s]\n"
     ]
    },
    {
     "name": "stdout",
     "output_type": "stream",
     "text": [
      "Epoch [10/100], Train Loss: 1.0442, Valid Loss: 1.0364, Train Accuracy: 0.8583, Valid Accuracy: 0.8669\n"
     ]
    },
    {
     "name": "stderr",
     "output_type": "stream",
     "text": [
      "Epoch 11/100: 100%|██████████| 4688/4688 [01:03<00:00, 74.13it/s]\n"
     ]
    },
    {
     "name": "stdout",
     "output_type": "stream",
     "text": [
      "Epoch [11/100], Train Loss: 1.0385, Valid Loss: 1.0398, Train Accuracy: 0.8635, Valid Accuracy: 0.8621\n"
     ]
    },
    {
     "name": "stderr",
     "output_type": "stream",
     "text": [
      "Epoch 12/100: 100%|██████████| 4688/4688 [01:03<00:00, 74.15it/s]\n"
     ]
    },
    {
     "name": "stdout",
     "output_type": "stream",
     "text": [
      "Epoch [12/100], Train Loss: 1.0251, Valid Loss: 1.1088, Train Accuracy: 0.8788, Valid Accuracy: 0.7937\n"
     ]
    },
    {
     "name": "stderr",
     "output_type": "stream",
     "text": [
      "Epoch 13/100: 100%|██████████| 4688/4688 [01:02<00:00, 74.85it/s]\n"
     ]
    },
    {
     "name": "stdout",
     "output_type": "stream",
     "text": [
      "Epoch [13/100], Train Loss: 1.0123, Valid Loss: 1.0118, Train Accuracy: 0.8913, Valid Accuracy: 0.8914\n"
     ]
    },
    {
     "name": "stderr",
     "output_type": "stream",
     "text": [
      "Epoch 14/100: 100%|██████████| 4688/4688 [01:03<00:00, 73.93it/s]\n"
     ]
    },
    {
     "name": "stdout",
     "output_type": "stream",
     "text": [
      "Epoch [14/100], Train Loss: 1.0159, Valid Loss: 1.0011, Train Accuracy: 0.8872, Valid Accuracy: 0.9016\n"
     ]
    },
    {
     "name": "stderr",
     "output_type": "stream",
     "text": [
      "Epoch 15/100: 100%|██████████| 4688/4688 [01:03<00:00, 73.91it/s]\n"
     ]
    },
    {
     "name": "stdout",
     "output_type": "stream",
     "text": [
      "Epoch [15/100], Train Loss: 1.0155, Valid Loss: 1.0641, Train Accuracy: 0.8876, Valid Accuracy: 0.8389\n"
     ]
    },
    {
     "name": "stderr",
     "output_type": "stream",
     "text": [
      "Epoch 16/100: 100%|██████████| 4688/4688 [01:05<00:00, 71.63it/s]\n"
     ]
    },
    {
     "name": "stdout",
     "output_type": "stream",
     "text": [
      "Epoch [16/100], Train Loss: 1.0105, Valid Loss: 1.0085, Train Accuracy: 0.8925, Valid Accuracy: 0.8950\n"
     ]
    },
    {
     "name": "stderr",
     "output_type": "stream",
     "text": [
      "Epoch 17/100: 100%|██████████| 4688/4688 [01:02<00:00, 74.63it/s]\n"
     ]
    },
    {
     "name": "stdout",
     "output_type": "stream",
     "text": [
      "Epoch [17/100], Train Loss: 1.0096, Valid Loss: 0.9954, Train Accuracy: 0.8934, Valid Accuracy: 0.9059\n"
     ]
    },
    {
     "name": "stderr",
     "output_type": "stream",
     "text": [
      "Epoch 18/100: 100%|██████████| 4688/4688 [01:05<00:00, 71.25it/s]\n"
     ]
    },
    {
     "name": "stdout",
     "output_type": "stream",
     "text": [
      "Epoch [18/100], Train Loss: 1.0117, Valid Loss: 1.0027, Train Accuracy: 0.8913, Valid Accuracy: 0.8998\n"
     ]
    },
    {
     "name": "stderr",
     "output_type": "stream",
     "text": [
      "Epoch 19/100: 100%|██████████| 4688/4688 [01:05<00:00, 72.07it/s]\n"
     ]
    },
    {
     "name": "stdout",
     "output_type": "stream",
     "text": [
      "Epoch [19/100], Train Loss: 1.0100, Valid Loss: 1.0238, Train Accuracy: 0.8929, Valid Accuracy: 0.8794\n"
     ]
    },
    {
     "name": "stderr",
     "output_type": "stream",
     "text": [
      "Epoch 20/100: 100%|██████████| 4688/4688 [01:00<00:00, 77.18it/s]\n"
     ]
    },
    {
     "name": "stdout",
     "output_type": "stream",
     "text": [
      "Epoch [20/100], Train Loss: 1.0103, Valid Loss: 1.0595, Train Accuracy: 0.8926, Valid Accuracy: 0.8428\n"
     ]
    },
    {
     "name": "stderr",
     "output_type": "stream",
     "text": [
      "Epoch 21/100: 100%|██████████| 4688/4688 [00:59<00:00, 78.14it/s]\n"
     ]
    },
    {
     "name": "stdout",
     "output_type": "stream",
     "text": [
      "Epoch [21/100], Train Loss: 1.0090, Valid Loss: 0.9889, Train Accuracy: 0.8938, Valid Accuracy: 0.9148\n"
     ]
    },
    {
     "name": "stderr",
     "output_type": "stream",
     "text": [
      "Epoch 22/100: 100%|██████████| 4688/4688 [00:59<00:00, 78.20it/s]\n"
     ]
    },
    {
     "name": "stdout",
     "output_type": "stream",
     "text": [
      "Epoch [22/100], Train Loss: 1.0067, Valid Loss: 0.9795, Train Accuracy: 0.8962, Valid Accuracy: 0.9239\n"
     ]
    },
    {
     "name": "stderr",
     "output_type": "stream",
     "text": [
      "Epoch 23/100: 100%|██████████| 4688/4688 [01:00<00:00, 77.48it/s]\n"
     ]
    },
    {
     "name": "stdout",
     "output_type": "stream",
     "text": [
      "Epoch [23/100], Train Loss: 1.0057, Valid Loss: 1.0089, Train Accuracy: 0.8971, Valid Accuracy: 0.8941\n"
     ]
    },
    {
     "name": "stderr",
     "output_type": "stream",
     "text": [
      "Epoch 24/100: 100%|██████████| 4688/4688 [01:03<00:00, 73.87it/s]\n"
     ]
    },
    {
     "name": "stdout",
     "output_type": "stream",
     "text": [
      "Epoch [24/100], Train Loss: 1.0042, Valid Loss: 1.0031, Train Accuracy: 0.8985, Valid Accuracy: 0.8992\n"
     ]
    },
    {
     "name": "stderr",
     "output_type": "stream",
     "text": [
      "Epoch 25/100: 100%|██████████| 4688/4688 [00:59<00:00, 78.36it/s]\n"
     ]
    },
    {
     "name": "stdout",
     "output_type": "stream",
     "text": [
      "Epoch [25/100], Train Loss: 1.0084, Valid Loss: 1.0184, Train Accuracy: 0.8943, Valid Accuracy: 0.8839\n"
     ]
    },
    {
     "name": "stderr",
     "output_type": "stream",
     "text": [
      "Epoch 26/100: 100%|██████████| 4688/4688 [00:59<00:00, 78.59it/s]\n"
     ]
    },
    {
     "name": "stdout",
     "output_type": "stream",
     "text": [
      "Epoch [26/100], Train Loss: 1.0062, Valid Loss: 1.0327, Train Accuracy: 0.8965, Valid Accuracy: 0.8699\n"
     ]
    },
    {
     "name": "stderr",
     "output_type": "stream",
     "text": [
      "Epoch 27/100: 100%|██████████| 4688/4688 [01:00<00:00, 77.52it/s]\n"
     ]
    },
    {
     "name": "stdout",
     "output_type": "stream",
     "text": [
      "Epoch [27/100], Train Loss: 1.0080, Valid Loss: 1.0119, Train Accuracy: 0.8948, Valid Accuracy: 0.8907\n"
     ]
    },
    {
     "name": "stderr",
     "output_type": "stream",
     "text": [
      "Epoch 28/100: 100%|██████████| 4688/4688 [00:59<00:00, 79.14it/s]\n"
     ]
    },
    {
     "name": "stdout",
     "output_type": "stream",
     "text": [
      "Epoch [28/100], Train Loss: 1.0089, Valid Loss: 1.0094, Train Accuracy: 0.8939, Valid Accuracy: 0.8927\n"
     ]
    },
    {
     "name": "stderr",
     "output_type": "stream",
     "text": [
      "Epoch 29/100: 100%|██████████| 4688/4688 [00:59<00:00, 78.94it/s]\n"
     ]
    },
    {
     "name": "stdout",
     "output_type": "stream",
     "text": [
      "Epoch [29/100], Train Loss: 1.0084, Valid Loss: 1.0213, Train Accuracy: 0.8944, Valid Accuracy: 0.8815\n"
     ]
    },
    {
     "name": "stderr",
     "output_type": "stream",
     "text": [
      "Epoch 30/100: 100%|██████████| 4688/4688 [00:58<00:00, 79.54it/s]\n"
     ]
    },
    {
     "name": "stdout",
     "output_type": "stream",
     "text": [
      "Epoch [30/100], Train Loss: 1.0053, Valid Loss: 1.0183, Train Accuracy: 0.8974, Valid Accuracy: 0.8851\n"
     ]
    },
    {
     "name": "stderr",
     "output_type": "stream",
     "text": [
      "Epoch 31/100: 100%|██████████| 4688/4688 [00:58<00:00, 80.18it/s]\n"
     ]
    },
    {
     "name": "stdout",
     "output_type": "stream",
     "text": [
      "Epoch [31/100], Train Loss: 1.0053, Valid Loss: 1.0482, Train Accuracy: 0.8974, Valid Accuracy: 0.8539\n"
     ]
    },
    {
     "name": "stderr",
     "output_type": "stream",
     "text": [
      "Epoch 32/100: 100%|██████████| 4688/4688 [00:57<00:00, 81.36it/s]\n"
     ]
    },
    {
     "name": "stdout",
     "output_type": "stream",
     "text": [
      "Epoch [32/100], Train Loss: 1.0060, Valid Loss: 1.0128, Train Accuracy: 0.8967, Valid Accuracy: 0.8898\n",
      "Early stopping\n"
     ]
    }
   ],
   "source": [
    "# 학습 및 평가 루프\n",
    "num_epochs = 100\n",
    "patience = 10\n",
    "best_loss = np.inf\n",
    "early_stop_counter = 0\n",
    "\n",
    "train_losses = []\n",
    "val_losses = []\n",
    "train_accuracies = []\n",
    "val_accuracies = []\n",
    "\n",
    "for epoch in range(num_epochs):\n",
    "    model.train()\n",
    "    train_loss = 0\n",
    "    correct_train = 0\n",
    "    total_train = 0\n",
    "\n",
    "    for inputs, labels in tqdm(train_loader, desc=f\"Epoch {epoch+1}/{num_epochs}\"):\n",
    "        optimizer.zero_grad()\n",
    "        outputs = model(inputs)\n",
    "        loss = criterion(outputs, labels)\n",
    "        loss.backward()\n",
    "        optimizer.step()\n",
    "\n",
    "        train_loss += loss.item()\n",
    "        _, predicted = torch.max(outputs.data, 1)\n",
    "        _, labels_max = torch.max(labels.data, 1)\n",
    "        total_train += labels.size(0)\n",
    "        correct_train += (predicted == labels_max).sum().item()\n",
    "\n",
    "    train_loss /= len(train_loader)\n",
    "    train_accuracy = correct_train / total_train\n",
    "\n",
    "    model.eval()\n",
    "    val_loss = 0\n",
    "    correct_val = 0\n",
    "    total_val = 0\n",
    "\n",
    "    with torch.no_grad():\n",
    "        for inputs, labels in test_loader:\n",
    "            outputs = model(inputs)\n",
    "            loss = criterion(outputs, labels)\n",
    "            val_loss += loss.item()\n",
    "            _, predicted = torch.max(outputs.data, 1)\n",
    "            _, labels_max = torch.max(labels.data, 1)\n",
    "            total_val += labels.size(0)\n",
    "            correct_val += (predicted == labels_max).sum().item()\n",
    "\n",
    "    val_loss /= len(test_loader)\n",
    "    val_accuracy = correct_val / total_val\n",
    "\n",
    "    train_losses.append(train_loss)\n",
    "    val_losses.append(val_loss)\n",
    "    train_accuracies.append(train_accuracy)\n",
    "    val_accuracies.append(val_accuracy)\n",
    "\n",
    "    print(\n",
    "        f\"Epoch [{epoch+1}/{num_epochs}], Train Loss: {train_loss:.4f}, Valid Loss: {val_loss:.4f}, Train Accuracy: {train_accuracy:.4f}, Valid Accuracy: {val_accuracy:.4f}\"\n",
    "    )\n",
    "\n",
    "    if val_loss < best_loss:\n",
    "        best_loss = val_loss\n",
    "        early_stop_counter = 0\n",
    "        torch.save(model.state_dict(), \"best_model.pth\")\n",
    "    else:\n",
    "        early_stop_counter += 1\n",
    "\n",
    "    if early_stop_counter >= patience:\n",
    "        print(\"Early stopping\")\n",
    "        break"
   ]
  },
  {
   "cell_type": "markdown",
   "metadata": {},
   "source": [
    "### Test"
   ]
  },
  {
   "cell_type": "code",
   "execution_count": 72,
   "metadata": {},
   "outputs": [
    {
     "name": "stdout",
     "output_type": "stream",
     "text": [
      "Test Loss: 0.9795, Test Accuracy: 0.9239\n"
     ]
    }
   ],
   "source": [
    "# 모델 로드\n",
    "model.load_state_dict(torch.load(\"best_model.pth\"))\n",
    "\n",
    "# 테스트 데이터 평가\n",
    "model.eval()\n",
    "test_loss = 0\n",
    "correct_test = 0\n",
    "total_test = 0\n",
    "\n",
    "with torch.no_grad():\n",
    "    for inputs, labels in test_loader:\n",
    "        outputs = model(inputs)\n",
    "        loss = criterion(outputs, labels)\n",
    "        test_loss += loss.item()\n",
    "        _, predicted = torch.max(outputs.data, 1)\n",
    "        _, labels_max = torch.max(labels.data, 1)\n",
    "        total_test += labels.size(0)\n",
    "        correct_test += (predicted == labels_max).sum().item()\n",
    "\n",
    "test_loss /= len(test_loader)\n",
    "test_accuracy = correct_test / total_test\n",
    "\n",
    "print(f\"Test Loss: {test_loss:.4f}, Test Accuracy: {test_accuracy:.4f}\")"
   ]
  },
  {
   "cell_type": "code",
   "execution_count": 73,
   "metadata": {},
   "outputs": [
    {
     "name": "stdout",
     "output_type": "stream",
     "text": [
      "              precision    recall  f1-score   support\n",
      "\n",
      "           0       0.95      0.92      0.94     59643\n",
      "           1       0.90      0.96      0.93     59988\n",
      "           2       0.96      0.86      0.91     60001\n",
      "           3       0.96      0.92      0.94     60196\n",
      "           4       0.87      0.95      0.91     60172\n",
      "\n",
      "    accuracy                           0.92    300000\n",
      "   macro avg       0.93      0.92      0.92    300000\n",
      "weighted avg       0.93      0.92      0.92    300000\n",
      "\n"
     ]
    },
    {
     "data": {
      "image/png": "[encoded data removed]",
      "text/plain": [
       "<Figure size 640x480 with 1 Axes>"
      ]
     },
     "metadata": {},
     "output_type": "display_data"
    },
    {
     "data": {
      "image/png": "[encoded data removed]",
      "text/plain": [
       "<Figure size 640x480 with 1 Axes>"
      ]
     },
     "metadata": {},
     "output_type": "display_data"
    }
   ],
   "source": [
    "# 예측 및 성능 평가\n",
    "y_pred = []\n",
    "y_true = []\n",
    "\n",
    "with torch.no_grad():\n",
    "    for inputs, labels in test_loader:\n",
    "        outputs = model(inputs)\n",
    "        _, predicted = torch.max(outputs.data, 1)\n",
    "        y_pred.extend(predicted.cpu().numpy())\n",
    "        _, labels_max = torch.max(labels.data, 1)\n",
    "        y_true.extend(labels_max.cpu().numpy())\n",
    "\n",
    "print(classification_report(y_true, y_pred))\n",
    "\n",
    "# 손실 및 정확도 그래프\n",
    "plt.plot(train_losses, label=\"Train Loss\")\n",
    "plt.plot(val_losses, label=\"Validation Loss\")\n",
    "plt.title(\"Loss\")\n",
    "plt.xlabel(\"Epochs\")\n",
    "plt.ylabel(\"Loss\")\n",
    "plt.legend()\n",
    "plt.show()\n",
    "\n",
    "plt.plot(train_accuracies, label=\"Train Accuracy\")\n",
    "plt.plot(val_accuracies, label=\"Validation Accuracy\")\n",
    "plt.title(\"Accuracy\")\n",
    "plt.xlabel(\"Epochs\")\n",
    "plt.ylabel(\"Accuracy\")\n",
    "plt.legend()\n",
    "plt.show()"
   ]
  }
 ],
 "metadata": {
  "kernelspec": {
   "display_name": "ml-job",
   "language": "python",
   "name": "python3"
  },
  "language_info": {
   "codemirror_mode": {
    "name": "ipython",
    "version": 3
   },
   "file_extension": ".py",
   "mimetype": "text/x-python",
   "name": "python",
   "nbconvert_exporter": "python",
   "pygments_lexer": "ipython3",
   "version": "3.10.11"
  }
 },
 "nbformat": 4,
 "nbformat_minor": 2
}
