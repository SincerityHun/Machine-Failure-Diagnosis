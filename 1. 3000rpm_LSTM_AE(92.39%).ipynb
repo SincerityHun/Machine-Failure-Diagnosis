{
 "cells": [
  {
   "cell_type": "markdown",
   "metadata": {},
   "source": [
    "### 계획\n",
    "1. Import\n",
    "2. Data Processing (Preprocessing)\n",
    "    - Data Load\n",
    "    - Original Signal + Visualization\n",
    "    - CWT\n",
    "3. Model Define (Pytorch) + Hyperparameter Tuning\n",
    "    - LSTM Autoencoder\n",
    "        * batch_size\n",
    "        * hidden_size\n",
    "        * layer_numbers\n",
    "        * num_epochs\n",
    "        * learning_rate\n",
    "4. Training\n",
    "5. Test"
   ]
  },
  {
   "cell_type": "markdown",
   "metadata": {},
   "source": [
    "### Import"
   ]
  },
  {
   "cell_type": "code",
   "execution_count": 1,
   "metadata": {},
   "outputs": [],
   "source": [
    "import numpy as np\n",
    "import pandas as pd\n",
    "import random\n",
    "import seaborn as sns\n",
    "import torch\n",
    "import torch.nn as nn\n",
    "import torch.optim as optim\n",
    "import matplotlib.pyplot as plt\n",
    "from sklearn.preprocessing import MinMaxScaler\n",
    "from torch.utils.data import DataLoader, TensorDataset, random_split\n",
    "from sklearn.metrics import classification_report, confusion_matrix\n",
    "from scipy.fft import fft, ifft\n",
    "import pywt\n",
    "import os\n",
    "from sklearn.preprocessing import StandardScaler\n",
    "from sklearn.model_selection import train_test_split\n",
    "from tqdm import tqdm\n",
    "import pywt\n",
    "import torch.nn.functional as F\n",
    "from keras.utils import to_categorical"
   ]
  },
  {
   "cell_type": "markdown",
   "metadata": {},
   "source": [
    "### Data Preprocessing"
   ]
  },
  {
   "cell_type": "code",
   "execution_count": 2,
   "metadata": {},
   "outputs": [
    {
     "name": "stdout",
     "output_type": "stream",
     "text": [
      "Data Processing\n"
     ]
    }
   ],
   "source": [
    "# Data Processing\n",
    "print(\"Data Processing\")\n",
    "RPM = 3000\n",
    "base_path = \"5000hz_raw_data/\" + str(RPM) + \"rpm/\"\n",
    "folders = [\n",
    "    str(RPM) + \"rpm \" + \"normal data\",\n",
    "    str(RPM) + \"rpm \" + \"carriage damage\",\n",
    "    str(RPM) + \"rpm \" + \"high-speed damage\",\n",
    "    str(RPM) + \"rpm \" + \"lack of lubrication\",\n",
    "    str(RPM) + \"rpm \" + \"oxidation and corrosion\",\n",
    "]\n",
    "columns = [\"motor1_x\", \"motor1_y\", \"motor1_z\", \"sound\", \"time\"]"
   ]
  },
  {
   "cell_type": "code",
   "execution_count": 3,
   "metadata": {},
   "outputs": [],
   "source": [
    "# 데이터 정규화\n",
    "def normalize_data(df):\n",
    "    scaler = StandardScaler()\n",
    "    return scaler.fit_transform(df)"
   ]
  },
  {
   "cell_type": "code",
   "execution_count": 4,
   "metadata": {},
   "outputs": [],
   "source": [
    "# 데이터를 읽고 결합하는 함수\n",
    "def read_and_concatenate(folder):\n",
    "    all_files = []\n",
    "    for file_name in os.listdir(folder):\n",
    "        if file_name.endswith(\".csv\"):\n",
    "            file_path = os.path.join(folder, file_name)\n",
    "            df = pd.read_csv(file_path, usecols=columns)\n",
    "            df[[\"motor1_x\", \"motor1_y\", \"motor1_z\"]] = normalize_data(\n",
    "                df[[\"motor1_x\", \"motor1_y\", \"motor1_z\"]]\n",
    "            )\n",
    "            df[[\"sound\"]] = normalize_data(df[[\"sound\"]])\n",
    "            all_files.append(df)\n",
    "            # break  # TEST 한개의 파일만 사용\n",
    "    combined_df = pd.concat(all_files)\n",
    "    combined_df.sort_values(\"time\", inplace=True)  # 시간 열 기준 정렬\n",
    "    return combined_df"
   ]
  },
  {
   "cell_type": "code",
   "execution_count": null,
   "metadata": {},
   "outputs": [],
   "source": [
    "# CWT를 적용하는 함수\n",
    "def apply_cwt(data, scales, wavelet_name=\"morl\"):\n",
    "    coefficients, frequencies = pywt.cwt(data, scales, wavelet_name)\n",
    "    return coefficients"
   ]
  },
  {
   "cell_type": "code",
   "execution_count": null,
   "metadata": {},
   "outputs": [],
   "source": [
    "# CWT 변환\n",
    "def apply_cwt_to_dataset(data, scales, wavelet_name=\"morl\"):\n",
    "    cwt_features = []\n",
    "    for feature in data.T:  # Apply CWT on each feature (column) of the dataset\n",
    "        cwt_matrix, _ = pywt.cwt(feature, scales, wavelet_name)\n",
    "        # Normalize the CWT matrix\n",
    "        cwt_matrix = (cwt_matrix - np.mean(cwt_matrix)) / np.std(cwt_matrix)\n",
    "        cwt_features.append(cwt_matrix)\n",
    "    # Stack to form [samples, features, time, CWT_coefficients]\n",
    "    return np.stack(cwt_features, axis=1)"
   ]
  },
  {
   "cell_type": "code",
   "execution_count": 5,
   "metadata": {},
   "outputs": [],
   "source": [
    "concatenated_df = dict()\n",
    "folder_index = [\n",
    "    \"normal data\",\n",
    "    \"carriage damage\",\n",
    "    \"high-speed damage\",\n",
    "    \"lack of lubrication\",\n",
    "    \"oxidation and corrosion\",\n",
    "]\n",
    "# 각 폴더에서 데이터를 처리\n",
    "for index, folder_name in enumerate(folders):\n",
    "    folder_path = os.path.join(base_path, folder_name)\n",
    "    concatenated_df[folder_index[index]] = read_and_concatenate(folder_path)\n",
    "\n",
    "    # time 열 제거\n",
    "    concatenated_df[folder_index[index]].drop(columns=\"time\", inplace=True)"
   ]
  },
  {
   "cell_type": "code",
   "execution_count": 6,
   "metadata": {},
   "outputs": [],
   "source": [
    "X = np.vstack(\n",
    "    (\n",
    "        concatenated_df[folder_index[0]],\n",
    "        concatenated_df[folder_index[1]],\n",
    "        concatenated_df[folder_index[2]],\n",
    "        concatenated_df[folder_index[3]],\n",
    "        concatenated_df[folder_index[4]],\n",
    "    )\n",
    ")"
   ]
  },
  {
   "cell_type": "code",
   "execution_count": 7,
   "metadata": {},
   "outputs": [],
   "source": [
    "Y = np.concatenate(\n",
    "    (\n",
    "        np.zeros(concatenated_df[folder_index[0]].shape[0]),\n",
    "        np.ones(concatenated_df[folder_index[1]].shape[0]),\n",
    "        np.full(concatenated_df[folder_index[2]].shape[0],2),\n",
    "        np.full(concatenated_df[folder_index[3]].shape[0],3),\n",
    "        np.full(concatenated_df[folder_index[4]].shape[0],4),\n",
    "    )\n",
    ")\n",
    "Y = to_categorical(Y)"
   ]
  },
  {
   "cell_type": "code",
   "execution_count": 8,
   "metadata": {},
   "outputs": [],
   "source": [
    "# 데이터 분할\n",
    "X_train, X_test, y_train, y_test = train_test_split(\n",
    "    X, Y, test_size=0.2, random_state=42\n",
    ")"
   ]
  },
  {
   "cell_type": "code",
   "execution_count": 9,
   "metadata": {},
   "outputs": [],
   "source": [
    "# 데이터 형태 확인\n",
    "timesteps = 1\n",
    "input_dim = X_train.shape[1]"
   ]
  },
  {
   "cell_type": "code",
   "execution_count": 10,
   "metadata": {},
   "outputs": [],
   "source": [
    "# 데이터 형태 변환\n",
    "X_train = X_train.reshape(X_train.shape[0], timesteps, input_dim)\n",
    "X_test = X_test.reshape(X_test.shape[0], timesteps, input_dim)"
   ]
  },
  {
   "cell_type": "code",
   "execution_count": 11,
   "metadata": {},
   "outputs": [],
   "source": [
    "# PyTorch 텐서로 변환\n",
    "X_train_tensor = torch.tensor(X_train, dtype=torch.float32)\n",
    "X_test_tensor = torch.tensor(X_test, dtype=torch.float32)\n",
    "y_train_tensor = torch.tensor(y_train, dtype=torch.float32)\n",
    "y_test_tensor = torch.tensor(y_test, dtype=torch.float32)"
   ]
  },
  {
   "cell_type": "code",
   "execution_count": 12,
   "metadata": {},
   "outputs": [],
   "source": [
    "# DataLoader 생성\n",
    "batch_size = 256\n",
    "train_dataset = TensorDataset(X_train_tensor, y_train_tensor)\n",
    "test_dataset = TensorDataset(X_test_tensor, y_test_tensor)\n",
    "\n",
    "train_loader = DataLoader(train_dataset, batch_size=batch_size, shuffle=True)\n",
    "test_loader = DataLoader(test_dataset, batch_size=batch_size, shuffle=False)"
   ]
  },
  {
   "cell_type": "markdown",
   "metadata": {},
   "source": [
    "### Model Define"
   ]
  },
  {
   "cell_type": "code",
   "execution_count": 13,
   "metadata": {},
   "outputs": [],
   "source": [
    "class LSTMAutoencoder(nn.Module):\n",
    "    def __init__(self, input_dim, hidden_dim1, hidden_dim2, hidden_dim3, output_dim):\n",
    "        super(LSTMAutoencoder, self).__init__()\n",
    "        self.lstm1 = nn.LSTM(input_dim, hidden_dim1, batch_first=True)\n",
    "        self.lstm2 = nn.LSTM(hidden_dim1, hidden_dim2, batch_first=True)\n",
    "        self.lstm3 = nn.LSTM(hidden_dim2, hidden_dim3, batch_first=True)\n",
    "        self.dense1 = nn.Linear(hidden_dim3, hidden_dim2)\n",
    "        self.dropout = nn.Dropout(0.2)\n",
    "        self.dense2 = nn.Linear(hidden_dim2, output_dim)\n",
    "        self.softmax = nn.Softmax(dim=1)\n",
    "\n",
    "    def forward(self, x):\n",
    "        x, _ = self.lstm1(x)\n",
    "        x, _ = self.lstm2(x)\n",
    "        x, _ = self.lstm3(x)\n",
    "        x = self.dense1(x[:, -1, :])  # 마지막 타임스텝의 출력을 사용합니다.\n",
    "        x = self.dropout(x)\n",
    "        x = self.dense2(x)\n",
    "        x = self.softmax(x)\n",
    "        return x"
   ]
  },
  {
   "cell_type": "markdown",
   "metadata": {},
   "source": [
    "### Training"
   ]
  },
  {
   "cell_type": "code",
   "execution_count": 14,
   "metadata": {},
   "outputs": [],
   "source": [
    "input_dim = X_train.shape[2]\n",
    "hidden_dim1 = 128\n",
    "hidden_dim2 = 64\n",
    "hidden_dim3 = 32\n",
    "output_dim = y_train.shape[1]"
   ]
  },
  {
   "cell_type": "code",
   "execution_count": 15,
   "metadata": {},
   "outputs": [],
   "source": [
    "# 모델 초기화\n",
    "model = LSTMAutoencoder(input_dim, hidden_dim1, hidden_dim2, hidden_dim3, output_dim)"
   ]
  },
  {
   "cell_type": "code",
   "execution_count": 16,
   "metadata": {},
   "outputs": [],
   "source": [
    "# Loss function 및 optimizer 정의\n",
    "criterion = nn.CrossEntropyLoss()\n",
    "optimizer = optim.Adam(model.parameters(), lr=0.001)"
   ]
  },
  {
   "cell_type": "code",
   "execution_count": null,
   "metadata": {},
   "outputs": [],
   "source": [
    "# 체크포인트 파일 경로 설정\n",
    "checkpoint_path = \"./checkpoint/cwt_lstm_autoencoder/model_checkpoint\""
   ]
  },
  {
   "cell_type": "code",
   "execution_count": 17,
   "metadata": {},
   "outputs": [
    {
     "name": "stderr",
     "output_type": "stream",
     "text": [
      "Epoch 1/100: 100%|██████████| 47813/47813 [11:09<00:00, 71.41it/s] \n"
     ]
    },
    {
     "name": "stdout",
     "output_type": "stream",
     "text": [
      "Epoch [1/100], Train Loss: 1.5505, Valid Loss: 1.5478, Train Accuracy: 0.3132, Valid Accuracy: 0.3165\n"
     ]
    },
    {
     "name": "stderr",
     "output_type": "stream",
     "text": [
      "Epoch 2/100: 100%|██████████| 47813/47813 [11:18<00:00, 70.49it/s]\n"
     ]
    },
    {
     "name": "stdout",
     "output_type": "stream",
     "text": [
      "Epoch [2/100], Train Loss: 1.2237, Valid Loss: 1.1431, Train Accuracy: 0.6751, Valid Accuracy: 0.7595\n"
     ]
    },
    {
     "name": "stderr",
     "output_type": "stream",
     "text": [
      "Epoch 3/100: 100%|██████████| 47813/47813 [10:47<00:00, 73.79it/s]\n"
     ]
    },
    {
     "name": "stdout",
     "output_type": "stream",
     "text": [
      "Epoch [3/100], Train Loss: 1.1429, Valid Loss: 1.1246, Train Accuracy: 0.7601, Valid Accuracy: 0.7786\n"
     ]
    },
    {
     "name": "stderr",
     "output_type": "stream",
     "text": [
      "Epoch 4/100: 100%|██████████| 47813/47813 [10:07<00:00, 78.72it/s] \n"
     ]
    },
    {
     "name": "stdout",
     "output_type": "stream",
     "text": [
      "Epoch [4/100], Train Loss: 1.1316, Valid Loss: 1.1354, Train Accuracy: 0.7716, Valid Accuracy: 0.7684\n"
     ]
    },
    {
     "name": "stderr",
     "output_type": "stream",
     "text": [
      "Epoch 5/100: 100%|██████████| 47813/47813 [09:34<00:00, 83.24it/s] \n"
     ]
    },
    {
     "name": "stdout",
     "output_type": "stream",
     "text": [
      "Epoch [5/100], Train Loss: 1.1296, Valid Loss: 1.1290, Train Accuracy: 0.7737, Valid Accuracy: 0.7746\n"
     ]
    },
    {
     "name": "stderr",
     "output_type": "stream",
     "text": [
      "Epoch 6/100: 100%|██████████| 47813/47813 [09:15<00:00, 86.12it/s] \n"
     ]
    },
    {
     "name": "stdout",
     "output_type": "stream",
     "text": [
      "Epoch [6/100], Train Loss: 1.1275, Valid Loss: 1.1246, Train Accuracy: 0.7758, Valid Accuracy: 0.7785\n"
     ]
    },
    {
     "name": "stderr",
     "output_type": "stream",
     "text": [
      "Epoch 7/100: 100%|██████████| 47813/47813 [07:55<00:00, 100.51it/s]\n"
     ]
    },
    {
     "name": "stdout",
     "output_type": "stream",
     "text": [
      "Epoch [7/100], Train Loss: 1.1246, Valid Loss: 1.1154, Train Accuracy: 0.7788, Valid Accuracy: 0.7880\n"
     ]
    },
    {
     "name": "stderr",
     "output_type": "stream",
     "text": [
      "Epoch 8/100: 100%|██████████| 47813/47813 [06:55<00:00, 115.02it/s]\n"
     ]
    },
    {
     "name": "stdout",
     "output_type": "stream",
     "text": [
      "Epoch [8/100], Train Loss: 1.1228, Valid Loss: 1.1314, Train Accuracy: 0.7805, Valid Accuracy: 0.7714\n"
     ]
    },
    {
     "name": "stderr",
     "output_type": "stream",
     "text": [
      "Epoch 9/100: 100%|██████████| 47813/47813 [07:28<00:00, 106.54it/s] \n"
     ]
    },
    {
     "name": "stdout",
     "output_type": "stream",
     "text": [
      "Epoch [9/100], Train Loss: 1.1098, Valid Loss: 1.1188, Train Accuracy: 0.7938, Valid Accuracy: 0.7845\n"
     ]
    },
    {
     "name": "stderr",
     "output_type": "stream",
     "text": [
      "Epoch 10/100: 100%|██████████| 47813/47813 [08:17<00:00, 96.08it/s] \n"
     ]
    },
    {
     "name": "stdout",
     "output_type": "stream",
     "text": [
      "Epoch [10/100], Train Loss: 1.1081, Valid Loss: 1.0965, Train Accuracy: 0.7955, Valid Accuracy: 0.8074\n"
     ]
    },
    {
     "name": "stderr",
     "output_type": "stream",
     "text": [
      "Epoch 11/100: 100%|██████████| 47813/47813 [08:57<00:00, 88.98it/s] \n"
     ]
    },
    {
     "name": "stdout",
     "output_type": "stream",
     "text": [
      "Epoch [11/100], Train Loss: 1.1077, Valid Loss: 1.0937, Train Accuracy: 0.7958, Valid Accuracy: 0.8100\n"
     ]
    },
    {
     "name": "stderr",
     "output_type": "stream",
     "text": [
      "Epoch 12/100: 100%|██████████| 47813/47813 [09:03<00:00, 87.94it/s] \n"
     ]
    },
    {
     "name": "stdout",
     "output_type": "stream",
     "text": [
      "Epoch [12/100], Train Loss: 1.1070, Valid Loss: 1.1065, Train Accuracy: 0.7966, Valid Accuracy: 0.7972\n"
     ]
    },
    {
     "name": "stderr",
     "output_type": "stream",
     "text": [
      "Epoch 13/100: 100%|██████████| 47813/47813 [08:49<00:00, 90.26it/s] \n"
     ]
    },
    {
     "name": "stdout",
     "output_type": "stream",
     "text": [
      "Epoch [13/100], Train Loss: 1.1061, Valid Loss: 1.1052, Train Accuracy: 0.7974, Valid Accuracy: 0.7983\n"
     ]
    },
    {
     "name": "stderr",
     "output_type": "stream",
     "text": [
      "Epoch 14/100: 100%|██████████| 47813/47813 [08:51<00:00, 90.01it/s] \n"
     ]
    },
    {
     "name": "stdout",
     "output_type": "stream",
     "text": [
      "Epoch [14/100], Train Loss: 1.1075, Valid Loss: 1.1293, Train Accuracy: 0.7961, Valid Accuracy: 0.7738\n"
     ]
    },
    {
     "name": "stderr",
     "output_type": "stream",
     "text": [
      "Epoch 15/100: 100%|██████████| 47813/47813 [09:00<00:00, 88.53it/s] \n"
     ]
    },
    {
     "name": "stdout",
     "output_type": "stream",
     "text": [
      "Epoch [15/100], Train Loss: 1.1051, Valid Loss: 1.0958, Train Accuracy: 0.7985, Valid Accuracy: 0.8081\n"
     ]
    },
    {
     "name": "stderr",
     "output_type": "stream",
     "text": [
      "Epoch 16/100: 100%|██████████| 47813/47813 [08:48<00:00, 90.41it/s] \n"
     ]
    },
    {
     "name": "stdout",
     "output_type": "stream",
     "text": [
      "Epoch [16/100], Train Loss: 1.1051, Valid Loss: 1.1023, Train Accuracy: 0.7985, Valid Accuracy: 0.8013\n"
     ]
    },
    {
     "name": "stderr",
     "output_type": "stream",
     "text": [
      "Epoch 17/100: 100%|██████████| 47813/47813 [08:53<00:00, 89.58it/s] \n"
     ]
    },
    {
     "name": "stdout",
     "output_type": "stream",
     "text": [
      "Epoch [17/100], Train Loss: 1.1037, Valid Loss: 1.1146, Train Accuracy: 0.7999, Valid Accuracy: 0.7889\n"
     ]
    },
    {
     "name": "stderr",
     "output_type": "stream",
     "text": [
      "Epoch 18/100: 100%|██████████| 47813/47813 [08:59<00:00, 88.57it/s] \n"
     ]
    },
    {
     "name": "stdout",
     "output_type": "stream",
     "text": [
      "Epoch [18/100], Train Loss: 1.1030, Valid Loss: 1.1156, Train Accuracy: 0.8006, Valid Accuracy: 0.7878\n"
     ]
    },
    {
     "name": "stderr",
     "output_type": "stream",
     "text": [
      "Epoch 19/100: 100%|██████████| 47813/47813 [09:42<00:00, 82.05it/s] \n"
     ]
    },
    {
     "name": "stdout",
     "output_type": "stream",
     "text": [
      "Epoch [19/100], Train Loss: 1.1098, Valid Loss: 1.1229, Train Accuracy: 0.7937, Valid Accuracy: 0.7803\n"
     ]
    },
    {
     "name": "stderr",
     "output_type": "stream",
     "text": [
      "Epoch 20/100: 100%|██████████| 47813/47813 [08:55<00:00, 89.32it/s] \n"
     ]
    },
    {
     "name": "stdout",
     "output_type": "stream",
     "text": [
      "Epoch [20/100], Train Loss: 1.1114, Valid Loss: 1.1115, Train Accuracy: 0.7921, Valid Accuracy: 0.7921\n"
     ]
    },
    {
     "name": "stderr",
     "output_type": "stream",
     "text": [
      "Epoch 21/100: 100%|██████████| 47813/47813 [08:58<00:00, 88.74it/s] \n"
     ]
    },
    {
     "name": "stdout",
     "output_type": "stream",
     "text": [
      "Epoch [21/100], Train Loss: 1.1024, Valid Loss: 1.1008, Train Accuracy: 0.8012, Valid Accuracy: 0.8029\n",
      "Early stopping\n"
     ]
    }
   ],
   "source": [
    "# 학습 및 평가 루프\n",
    "num_epochs = 100\n",
    "patience = 10\n",
    "best_loss = np.inf\n",
    "early_stop_counter = 0\n",
    "\n",
    "train_losses = []\n",
    "val_losses = []\n",
    "train_accuracies = []\n",
    "val_accuracies = []\n",
    "\n",
    "for epoch in range(num_epochs):\n",
    "    model.train()\n",
    "    train_loss = 0\n",
    "    correct_train = 0\n",
    "    total_train = 0\n",
    "\n",
    "    for inputs, labels in tqdm(train_loader, desc=f\"Epoch {epoch+1}/{num_epochs}\"):\n",
    "        optimizer.zero_grad()\n",
    "        outputs = model(inputs)\n",
    "        loss = criterion(outputs, labels)\n",
    "        loss.backward()\n",
    "        optimizer.step()\n",
    "\n",
    "        train_loss += loss.item()\n",
    "        _, predicted = torch.max(outputs.data, 1)\n",
    "        _, labels_max = torch.max(labels.data, 1)\n",
    "        total_train += labels.size(0)\n",
    "        correct_train += (predicted == labels_max).sum().item()\n",
    "\n",
    "    train_loss /= len(train_loader)\n",
    "    train_accuracy = correct_train / total_train\n",
    "\n",
    "    model.eval()\n",
    "    val_loss = 0\n",
    "    correct_val = 0\n",
    "    total_val = 0\n",
    "\n",
    "    with torch.no_grad():\n",
    "        for inputs, labels in test_loader:\n",
    "            outputs = model(inputs)\n",
    "            loss = criterion(outputs, labels)\n",
    "            val_loss += loss.item()\n",
    "            _, predicted = torch.max(outputs.data, 1)\n",
    "            _, labels_max = torch.max(labels.data, 1)\n",
    "            total_val += labels.size(0)\n",
    "            correct_val += (predicted == labels_max).sum().item()\n",
    "\n",
    "    val_loss /= len(test_loader)\n",
    "    val_accuracy = correct_val / total_val\n",
    "\n",
    "    train_losses.append(train_loss)\n",
    "    val_losses.append(val_loss)\n",
    "    train_accuracies.append(train_accuracy)\n",
    "    val_accuracies.append(val_accuracy)\n",
    "\n",
    "    print(\n",
    "        f\"Epoch [{epoch+1}/{num_epochs}], Train Loss: {train_loss:.4f}, Valid Loss: {val_loss:.4f}, Train Accuracy: {train_accuracy:.4f}, Valid Accuracy: {val_accuracy:.4f}\"\n",
    "    )\n",
    "\n",
    "    if val_loss < best_loss:\n",
    "        best_loss = val_loss\n",
    "        early_stop_counter = 0\n",
    "        torch.save(model.state_dict(), \"best_model.pth\")\n",
    "    else:\n",
    "        early_stop_counter += 1\n",
    "\n",
    "    if early_stop_counter >= patience:\n",
    "        print(\"Early stopping\")\n",
    "        break"
   ]
  },
  {
   "cell_type": "markdown",
   "metadata": {},
   "source": [
    "### Test"
   ]
  },
  {
   "cell_type": "code",
   "execution_count": 18,
   "metadata": {},
   "outputs": [
    {
     "name": "stdout",
     "output_type": "stream",
     "text": [
      "Test Loss: 1.0937, Test Accuracy: 0.8100\n"
     ]
    }
   ],
   "source": [
    "# 모델 로드\n",
    "model.load_state_dict(torch.load(\"best_model.pth\"))\n",
    "\n",
    "# 테스트 데이터 평가\n",
    "model.eval()\n",
    "test_loss = 0\n",
    "correct_test = 0\n",
    "total_test = 0\n",
    "\n",
    "with torch.no_grad():\n",
    "    for inputs, labels in test_loader:\n",
    "        outputs = model(inputs)\n",
    "        loss = criterion(outputs, labels)\n",
    "        test_loss += loss.item()\n",
    "        _, predicted = torch.max(outputs.data, 1)\n",
    "        _, labels_max = torch.max(labels.data, 1)\n",
    "        total_test += labels.size(0)\n",
    "        correct_test += (predicted == labels_max).sum().item()\n",
    "\n",
    "test_loss /= len(test_loader)\n",
    "test_accuracy = correct_test / total_test\n",
    "\n",
    "print(f\"Test Loss: {test_loss:.4f}, Test Accuracy: {test_accuracy:.4f}\")"
   ]
  },
  {
   "cell_type": "code",
   "execution_count": 19,
   "metadata": {},
   "outputs": [
    {
     "name": "stdout",
     "output_type": "stream",
     "text": [
      "              precision    recall  f1-score   support\n",
      "\n",
      "           0       0.85      0.84      0.85    659900\n",
      "           1       0.73      0.95      0.83    599552\n",
      "           2       0.82      0.83      0.83    599669\n",
      "           3       0.83      0.92      0.87    600197\n",
      "           4       0.83      0.50      0.63    600682\n",
      "\n",
      "    accuracy                           0.81   3060000\n",
      "   macro avg       0.81      0.81      0.80   3060000\n",
      "weighted avg       0.82      0.81      0.80   3060000\n",
      "\n"
     ]
    },
    {
     "data": {
      "image/png": "[encoded data removed]",
      "text/plain": [
       "<Figure size 640x480 with 1 Axes>"
      ]
     },
     "metadata": {},
     "output_type": "display_data"
    },
    {
     "data": {
      "image/png": "[encoded data removed]",
      "text/plain": [
       "<Figure size 640x480 with 1 Axes>"
      ]
     },
     "metadata": {},
     "output_type": "display_data"
    }
   ],
   "source": [
    "# 예측 및 성능 평가\n",
    "y_pred = []\n",
    "y_true = []\n",
    "\n",
    "with torch.no_grad():\n",
    "    for inputs, labels in test_loader:\n",
    "        outputs = model(inputs)\n",
    "        _, predicted = torch.max(outputs.data, 1)\n",
    "        y_pred.extend(predicted.cpu().numpy())\n",
    "        _, labels_max = torch.max(labels.data, 1)\n",
    "        y_true.extend(labels_max.cpu().numpy())\n",
    "\n",
    "print(classification_report(y_true, y_pred))\n",
    "\n",
    "# 손실 및 정확도 그래프\n",
    "plt.plot(train_losses, label=\"Train Loss\")\n",
    "plt.plot(val_losses, label=\"Validation Loss\")\n",
    "plt.title(\"Loss\")\n",
    "plt.xlabel(\"Epochs\")\n",
    "plt.ylabel(\"Loss\")\n",
    "plt.legend()\n",
    "plt.show()\n",
    "\n",
    "plt.plot(train_accuracies, label=\"Train Accuracy\")\n",
    "plt.plot(val_accuracies, label=\"Validation Accuracy\")\n",
    "plt.title(\"Accuracy\")\n",
    "plt.xlabel(\"Epochs\")\n",
    "plt.ylabel(\"Accuracy\")\n",
    "plt.legend()\n",
    "plt.show()"
   ]
  }
 ],
 "metadata": {
  "kernelspec": {
   "display_name": "ml-job",
   "language": "python",
   "name": "python3"
  },
  "language_info": {
   "codemirror_mode": {
    "name": "ipython",
    "version": 3
   },
   "file_extension": ".py",
   "mimetype": "text/x-python",
   "name": "python",
   "nbconvert_exporter": "python",
   "pygments_lexer": "ipython3",
   "version": "3.10.11"
  }
 },
 "nbformat": 4,
 "nbformat_minor": 2
}
